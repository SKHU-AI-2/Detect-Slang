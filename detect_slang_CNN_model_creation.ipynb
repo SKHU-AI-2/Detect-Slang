{
  "nbformat": 4,
  "nbformat_minor": 0,
  "metadata": {
    "colab": {
      "provenance": []
    },
    "kernelspec": {
      "name": "python3",
      "display_name": "Python 3"
    },
    "language_info": {
      "name": "python"
    }
  },
  "cells": [
    {
      "cell_type": "code",
      "execution_count": 1,
      "metadata": {
        "id": "bnrs_QgIKoCN"
      },
      "outputs": [],
      "source": [
        "import tensorflow as tf\n",
        "from tensorflow.keras import layers, models\n",
        "import os\n",
        "import cv2\n",
        "import numpy as np"
      ]
    },
    {
      "cell_type": "code",
      "source": [
        "# 경로지정\n",
        "answer_path = '/content/drive/MyDrive/AI 명예학회 2기/Detect-Slang/Data/answer_image' # 동영상 프레임 단위로 짜른거\n",
        "slang_path = '/content/drive/MyDrive/AI 명예학회 2기/Detect-Slang/Data/slang_image' # 동영상 프레임 단위로 짜른거"
      ],
      "metadata": {
        "id": "fD5TpK-lLGyd"
      },
      "execution_count": 2,
      "outputs": []
    },
    {
      "cell_type": "code",
      "source": [
        "## 전처리\n",
        "\n",
        "def load_and_preprocess_images(folder_path, label, img_size=(28, 28)):\n",
        "    images = []\n",
        "    labels = []\n",
        "\n",
        "    for img_file in os.listdir(folder_path):\n",
        "        img_path = os.path.join(folder_path, img_file)\n",
        "        img = cv2.imread(img_path)\n",
        "        img = cv2.resize(img, img_size)\n",
        "        img = img / 255.0  # 정규화\n",
        "        images.append(img)\n",
        "        labels.append(label)\n",
        "\n",
        "    return images, labels"
      ],
      "metadata": {
        "id": "_oFnRvTvLZ9S"
      },
      "execution_count": 3,
      "outputs": []
    },
    {
      "cell_type": "code",
      "source": [
        "# label 할당(1값: 정상, 0값: slang)\n",
        "\n",
        "answer_images, answer_labels = load_and_preprocess_images(answer_path, label=1)\n",
        "slang_images, slang_labels = load_and_preprocess_images(slang_path, label=0)"
      ],
      "metadata": {
        "id": "x0ZOe4oQLfPB"
      },
      "execution_count": 5,
      "outputs": []
    },
    {
      "cell_type": "code",
      "source": [
        "images = np.array(answer_images + slang_images)\n",
        "labels = np.array(answer_labels + slang_labels)"
      ],
      "metadata": {
        "id": "LBLPJW70Lq-B"
      },
      "execution_count": 6,
      "outputs": []
    },
    {
      "cell_type": "code",
      "source": [
        "model = models.Sequential([\n",
        "    layers.Conv2D(32, (3, 3), activation='relu', input_shape=(28, 28, 3)),\n",
        "    layers.MaxPooling2D((2, 2)),\n",
        "    layers.Conv2D(64, (3, 3), activation='relu'),\n",
        "    layers.MaxPooling2D((2, 2)),\n",
        "    layers.Conv2D(64, (3, 3), activation='relu'),\n",
        "    layers.Flatten(),\n",
        "    layers.Dense(64, activation='relu'),\n",
        "    layers.Dense(2, activation='softmax')\n",
        "])"
      ],
      "metadata": {
        "id": "S8cnYfzBLyrL"
      },
      "execution_count": 7,
      "outputs": []
    },
    {
      "cell_type": "code",
      "source": [
        "model.compile(optimizer='adam',\n",
        "              loss='sparse_categorical_crossentropy',\n",
        "              metrics=['accuracy'])"
      ],
      "metadata": {
        "id": "fKFs3HP7L4y3"
      },
      "execution_count": 8,
      "outputs": []
    },
    {
      "cell_type": "code",
      "source": [
        "model.fit(images, labels, epochs = 15)"
      ],
      "metadata": {
        "colab": {
          "base_uri": "https://localhost:8080/"
        },
        "id": "qEakfRppL6mR",
        "outputId": "fe5f2cc8-abb3-448c-ed87-f1b6c9edb1aa"
      },
      "execution_count": 9,
      "outputs": [
        {
          "output_type": "stream",
          "name": "stdout",
          "text": [
            "Epoch 1/15\n",
            "7/7 [==============================] - 1s 26ms/step - loss: 0.6925 - accuracy: 0.5073\n",
            "Epoch 2/15\n",
            "7/7 [==============================] - 0s 23ms/step - loss: 0.6547 - accuracy: 0.6537\n",
            "Epoch 3/15\n",
            "7/7 [==============================] - 0s 25ms/step - loss: 0.5485 - accuracy: 0.8732\n",
            "Epoch 4/15\n",
            "7/7 [==============================] - 0s 24ms/step - loss: 0.4154 - accuracy: 0.8878\n",
            "Epoch 5/15\n",
            "7/7 [==============================] - 0s 24ms/step - loss: 0.2721 - accuracy: 0.9073\n",
            "Epoch 6/15\n",
            "7/7 [==============================] - 0s 25ms/step - loss: 0.2122 - accuracy: 0.9220\n",
            "Epoch 7/15\n",
            "7/7 [==============================] - 0s 27ms/step - loss: 0.1672 - accuracy: 0.9415\n",
            "Epoch 8/15\n",
            "7/7 [==============================] - 0s 24ms/step - loss: 0.1458 - accuracy: 0.9561\n",
            "Epoch 9/15\n",
            "7/7 [==============================] - 0s 24ms/step - loss: 0.0864 - accuracy: 0.9707\n",
            "Epoch 10/15\n",
            "7/7 [==============================] - 0s 24ms/step - loss: 0.0633 - accuracy: 0.9854\n",
            "Epoch 11/15\n",
            "7/7 [==============================] - 0s 22ms/step - loss: 0.0325 - accuracy: 0.9951\n",
            "Epoch 12/15\n",
            "7/7 [==============================] - 0s 24ms/step - loss: 0.0225 - accuracy: 0.9951\n",
            "Epoch 13/15\n",
            "7/7 [==============================] - 0s 26ms/step - loss: 0.0139 - accuracy: 0.9951\n",
            "Epoch 14/15\n",
            "7/7 [==============================] - 0s 25ms/step - loss: 0.0089 - accuracy: 1.0000\n",
            "Epoch 15/15\n",
            "7/7 [==============================] - 0s 25ms/step - loss: 0.0086 - accuracy: 0.9951\n"
          ]
        },
        {
          "output_type": "execute_result",
          "data": {
            "text/plain": [
              "<keras.src.callbacks.History at 0x7fc25d5de380>"
            ]
          },
          "metadata": {},
          "execution_count": 9
        }
      ]
    },
    {
      "cell_type": "code",
      "source": [
        "model.save(\"Slang_CNN_model.h5\")"
      ],
      "metadata": {
        "colab": {
          "base_uri": "https://localhost:8080/"
        },
        "id": "7I4fBNgzL80D",
        "outputId": "cab542bf-6fbd-4b3a-b1be-dcaf661203b3"
      },
      "execution_count": 10,
      "outputs": [
        {
          "output_type": "stream",
          "name": "stderr",
          "text": [
            "/usr/local/lib/python3.10/dist-packages/keras/src/engine/training.py:3103: UserWarning: You are saving your model as an HDF5 file via `model.save()`. This file format is considered legacy. We recommend using instead the native Keras format, e.g. `model.save('my_model.keras')`.\n",
            "  saving_api.save_model(\n"
          ]
        }
      ]
    },
    {
      "cell_type": "code",
      "source": [],
      "metadata": {
        "id": "K8kiUKjvDdog"
      },
      "execution_count": null,
      "outputs": []
    }
  ]
}