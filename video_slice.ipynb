{
  "nbformat": 4,
  "nbformat_minor": 0,
  "metadata": {
    "colab": {
      "provenance": []
    },
    "kernelspec": {
      "name": "python3",
      "display_name": "Python 3"
    },
    "language_info": {
      "name": "python"
    }
  },
  "cells": [
    {
      "cell_type": "code",
      "execution_count": null,
      "metadata": {
        "id": "_nwMptGU_Yb2"
      },
      "outputs": [],
      "source": [
        "import cv2\n",
        "import os\n",
        "import zipfile"
      ]
    },
    {
      "cell_type": "code",
      "source": [
        "video_path = '/content/drive/MyDrive/AI 명예학회 2기/Detect-Slang/Data/answer.mp4'"
      ],
      "metadata": {
        "id": "obPXbL_VAVpn"
      },
      "execution_count": null,
      "outputs": []
    },
    {
      "cell_type": "code",
      "source": [
        "save_path = '/content/drive/MyDrive/AI 명예학회 2기/Detect-Slang/Data/answer_image'\n",
        "if not os.path.exists(save_path):\n",
        "    os.makedirs(save_path)"
      ],
      "metadata": {
        "id": "6xebYPLwA9XB"
      },
      "execution_count": null,
      "outputs": []
    },
    {
      "cell_type": "code",
      "source": [
        "image_name_format = 'answer_{}.jpg'\n",
        "\n",
        "cap = cv2.VideoCapture(video_path)\n",
        "\n",
        "\n",
        "fps = cap.get(cv2.CAP_PROP_FPS)\n",
        "\n",
        "\n",
        "seconds = 0.5 # 프레임 0.5초 # 1s\n",
        "frame_save_interval = int(fps * seconds)"
      ],
      "metadata": {
        "id": "BwsN1_XcCn7n"
      },
      "execution_count": null,
      "outputs": []
    },
    {
      "cell_type": "code",
      "source": [
        "count = 0\n",
        "frame_count = 0\n",
        "\n",
        "while cap.isOpened():\n",
        "    success, frame = cap.read()\n",
        "\n",
        "    if not success:\n",
        "        break\n",
        "\n",
        "    if frame_count % frame_save_interval == 0:\n",
        "        save_name = image_name_format.format(count)\n",
        "        cv2.imwrite(os.path.join(save_path, save_name), frame)\n",
        "        count += 1\n",
        "\n",
        "    frame_count += 1\n",
        "\n",
        "cap.release()"
      ],
      "metadata": {
        "id": "hY8tKrMxC2lr"
      },
      "execution_count": null,
      "outputs": []
    },
    {
      "cell_type": "code",
      "source": [],
      "metadata": {
        "id": "D2MTREQwEzXi"
      },
      "execution_count": null,
      "outputs": []
    }
  ]
}